{
 "cells": [
  {
   "cell_type": "code",
   "execution_count": 60,
   "id": "c0e3dfb2-09e0-444c-988e-680cb8e4daf8",
   "metadata": {},
   "outputs": [
    {
     "name": "stdout",
     "output_type": "stream",
     "text": [
      "Requirement already satisfied: plotly in /home/pimentel/anaconda3/lib/python3.10/site-packages (5.9.0)\n",
      "Requirement already satisfied: tenacity>=6.2.0 in /home/pimentel/anaconda3/lib/python3.10/site-packages (from plotly) (8.0.1)\n",
      "Note: you may need to restart the kernel to use updated packages.\n"
     ]
    }
   ],
   "source": [
    "pip install plotly"
   ]
  },
  {
   "cell_type": "code",
   "execution_count": 61,
   "id": "30653ae2-bc04-4214-b3e6-9d5d6960cb5c",
   "metadata": {},
   "outputs": [],
   "source": [
    "import pandas as pd\n",
    "\n",
    "# Supondo que consolidado_com_forecast seja seu DataFrame\n",
    "data = [\n",
    "    ['portaldevitau-pro', '01/01/2022', 23078.07, 'realizado'],\n",
    "    ['portaldevitau-pro', '01/02/2022', 26745.49, 'realizado'],\n",
    "    ['portaldevitau-pro', '01/03/2022', 30896.18, 'realizado'],\n",
    "    ['portaldevitau-pro', '01/04/2022', 33174.71, 'realizado'],\n",
    "    ['portaldevitau-pro', '01/05/2022', 33042.19, 'realizado'],\n",
    "    ['portaldevitau-pro', '01/06/2022', 30673.48, 'realizado'],\n",
    "    ['portaldevitau-pro', '01/07/2022', 35524.25, 'realizado'],\n",
    "    ['portaldevitau-pro', '01/08/2022', 27908.47, 'realizado'],\n",
    "    ['portaldevitau-pro', '01/09/2022', 23666.13, 'realizado'],\n",
    "    ['portaldevitau-pro', '01/10/2022', 26320.93, 'realizado'],\n",
    "    ['portaldevitau-pro', '01/11/2022', 24109.25, 'realizado'],\n",
    "    ['portaldevitau-pro', '01/12/2022', 29935.45, 'realizado'],\n",
    "    ['portaldevitau-pro', '01/01/2023', 32795.50, 'realizado'],\n",
    "    ['portaldevitau-pro', '01/02/2023', 28629.42, 'realizado'],\n",
    "    ['portaldevitau-pro', '01/03/2023', 27179.28, 'realizado'],\n",
    "    ['portaldevitau-pro', '01/04/2023', 22548.89, 'realizado'],\n",
    "    ['portaldevitau-pro', '01/05/2023', 18215.99, 'realizado'],\n",
    "    ['portaldevitau-pro', '01/06/2023', 23096.91, 'realizado'],\n",
    "    ['portaldevitau-pro', '01/07/2023', 19598.21, 'realizado'],\n",
    "    ['portaldevitau-pro', '01/08/2023', 15572.22, 'realizado'] \n",
    "       ]\n",
    "\n",
    "df = pd.DataFrame(data, columns=['conta aws', 'data', 'valor', 'classificacao'])"
   ]
  },
  {
   "cell_type": "code",
   "execution_count": 62,
   "id": "34163838-118d-4c38-b3a5-bcc7a77dbd21",
   "metadata": {},
   "outputs": [
    {
     "data": {
      "text/html": [
       "<div>\n",
       "<style scoped>\n",
       "    .dataframe tbody tr th:only-of-type {\n",
       "        vertical-align: middle;\n",
       "    }\n",
       "\n",
       "    .dataframe tbody tr th {\n",
       "        vertical-align: top;\n",
       "    }\n",
       "\n",
       "    .dataframe thead th {\n",
       "        text-align: right;\n",
       "    }\n",
       "</style>\n",
       "<table border=\"1\" class=\"dataframe\">\n",
       "  <thead>\n",
       "    <tr style=\"text-align: right;\">\n",
       "      <th></th>\n",
       "      <th>conta aws</th>\n",
       "      <th>data</th>\n",
       "      <th>valor</th>\n",
       "      <th>classificacao</th>\n",
       "      <th>ano</th>\n",
       "      <th>mes</th>\n",
       "    </tr>\n",
       "  </thead>\n",
       "  <tbody>\n",
       "    <tr>\n",
       "      <th>0</th>\n",
       "      <td>portaldevitau-pro</td>\n",
       "      <td>2022-01-01</td>\n",
       "      <td>23078.07</td>\n",
       "      <td>realizado</td>\n",
       "      <td>2022</td>\n",
       "      <td>1</td>\n",
       "    </tr>\n",
       "    <tr>\n",
       "      <th>1</th>\n",
       "      <td>portaldevitau-pro</td>\n",
       "      <td>2022-02-01</td>\n",
       "      <td>26745.49</td>\n",
       "      <td>realizado</td>\n",
       "      <td>2022</td>\n",
       "      <td>2</td>\n",
       "    </tr>\n",
       "    <tr>\n",
       "      <th>2</th>\n",
       "      <td>portaldevitau-pro</td>\n",
       "      <td>2022-03-01</td>\n",
       "      <td>30896.18</td>\n",
       "      <td>realizado</td>\n",
       "      <td>2022</td>\n",
       "      <td>3</td>\n",
       "    </tr>\n",
       "    <tr>\n",
       "      <th>3</th>\n",
       "      <td>portaldevitau-pro</td>\n",
       "      <td>2022-04-01</td>\n",
       "      <td>33174.71</td>\n",
       "      <td>realizado</td>\n",
       "      <td>2022</td>\n",
       "      <td>4</td>\n",
       "    </tr>\n",
       "    <tr>\n",
       "      <th>4</th>\n",
       "      <td>portaldevitau-pro</td>\n",
       "      <td>2022-05-01</td>\n",
       "      <td>33042.19</td>\n",
       "      <td>realizado</td>\n",
       "      <td>2022</td>\n",
       "      <td>5</td>\n",
       "    </tr>\n",
       "    <tr>\n",
       "      <th>5</th>\n",
       "      <td>portaldevitau-pro</td>\n",
       "      <td>2022-06-01</td>\n",
       "      <td>30673.48</td>\n",
       "      <td>realizado</td>\n",
       "      <td>2022</td>\n",
       "      <td>6</td>\n",
       "    </tr>\n",
       "    <tr>\n",
       "      <th>6</th>\n",
       "      <td>portaldevitau-pro</td>\n",
       "      <td>2022-07-01</td>\n",
       "      <td>35524.25</td>\n",
       "      <td>realizado</td>\n",
       "      <td>2022</td>\n",
       "      <td>7</td>\n",
       "    </tr>\n",
       "    <tr>\n",
       "      <th>7</th>\n",
       "      <td>portaldevitau-pro</td>\n",
       "      <td>2022-08-01</td>\n",
       "      <td>27908.47</td>\n",
       "      <td>realizado</td>\n",
       "      <td>2022</td>\n",
       "      <td>8</td>\n",
       "    </tr>\n",
       "    <tr>\n",
       "      <th>8</th>\n",
       "      <td>portaldevitau-pro</td>\n",
       "      <td>2022-09-01</td>\n",
       "      <td>23666.13</td>\n",
       "      <td>realizado</td>\n",
       "      <td>2022</td>\n",
       "      <td>9</td>\n",
       "    </tr>\n",
       "    <tr>\n",
       "      <th>9</th>\n",
       "      <td>portaldevitau-pro</td>\n",
       "      <td>2022-10-01</td>\n",
       "      <td>26320.93</td>\n",
       "      <td>realizado</td>\n",
       "      <td>2022</td>\n",
       "      <td>10</td>\n",
       "    </tr>\n",
       "    <tr>\n",
       "      <th>10</th>\n",
       "      <td>portaldevitau-pro</td>\n",
       "      <td>2022-11-01</td>\n",
       "      <td>24109.25</td>\n",
       "      <td>realizado</td>\n",
       "      <td>2022</td>\n",
       "      <td>11</td>\n",
       "    </tr>\n",
       "    <tr>\n",
       "      <th>11</th>\n",
       "      <td>portaldevitau-pro</td>\n",
       "      <td>2022-12-01</td>\n",
       "      <td>29935.45</td>\n",
       "      <td>realizado</td>\n",
       "      <td>2022</td>\n",
       "      <td>12</td>\n",
       "    </tr>\n",
       "    <tr>\n",
       "      <th>12</th>\n",
       "      <td>portaldevitau-pro</td>\n",
       "      <td>2023-01-01</td>\n",
       "      <td>32795.50</td>\n",
       "      <td>realizado</td>\n",
       "      <td>2023</td>\n",
       "      <td>1</td>\n",
       "    </tr>\n",
       "    <tr>\n",
       "      <th>13</th>\n",
       "      <td>portaldevitau-pro</td>\n",
       "      <td>2023-02-01</td>\n",
       "      <td>28629.42</td>\n",
       "      <td>realizado</td>\n",
       "      <td>2023</td>\n",
       "      <td>2</td>\n",
       "    </tr>\n",
       "    <tr>\n",
       "      <th>14</th>\n",
       "      <td>portaldevitau-pro</td>\n",
       "      <td>2023-03-01</td>\n",
       "      <td>27179.28</td>\n",
       "      <td>realizado</td>\n",
       "      <td>2023</td>\n",
       "      <td>3</td>\n",
       "    </tr>\n",
       "    <tr>\n",
       "      <th>15</th>\n",
       "      <td>portaldevitau-pro</td>\n",
       "      <td>2023-04-01</td>\n",
       "      <td>22548.89</td>\n",
       "      <td>realizado</td>\n",
       "      <td>2023</td>\n",
       "      <td>4</td>\n",
       "    </tr>\n",
       "    <tr>\n",
       "      <th>16</th>\n",
       "      <td>portaldevitau-pro</td>\n",
       "      <td>2023-05-01</td>\n",
       "      <td>18215.99</td>\n",
       "      <td>realizado</td>\n",
       "      <td>2023</td>\n",
       "      <td>5</td>\n",
       "    </tr>\n",
       "    <tr>\n",
       "      <th>17</th>\n",
       "      <td>portaldevitau-pro</td>\n",
       "      <td>2023-06-01</td>\n",
       "      <td>23096.91</td>\n",
       "      <td>realizado</td>\n",
       "      <td>2023</td>\n",
       "      <td>6</td>\n",
       "    </tr>\n",
       "    <tr>\n",
       "      <th>18</th>\n",
       "      <td>portaldevitau-pro</td>\n",
       "      <td>2023-07-01</td>\n",
       "      <td>19598.21</td>\n",
       "      <td>realizado</td>\n",
       "      <td>2023</td>\n",
       "      <td>7</td>\n",
       "    </tr>\n",
       "    <tr>\n",
       "      <th>19</th>\n",
       "      <td>portaldevitau-pro</td>\n",
       "      <td>2023-08-01</td>\n",
       "      <td>15572.22</td>\n",
       "      <td>realizado</td>\n",
       "      <td>2023</td>\n",
       "      <td>8</td>\n",
       "    </tr>\n",
       "  </tbody>\n",
       "</table>\n",
       "</div>"
      ],
      "text/plain": [
       "            conta aws       data     valor classificacao   ano  mes\n",
       "0   portaldevitau-pro 2022-01-01  23078.07     realizado  2022    1\n",
       "1   portaldevitau-pro 2022-02-01  26745.49     realizado  2022    2\n",
       "2   portaldevitau-pro 2022-03-01  30896.18     realizado  2022    3\n",
       "3   portaldevitau-pro 2022-04-01  33174.71     realizado  2022    4\n",
       "4   portaldevitau-pro 2022-05-01  33042.19     realizado  2022    5\n",
       "5   portaldevitau-pro 2022-06-01  30673.48     realizado  2022    6\n",
       "6   portaldevitau-pro 2022-07-01  35524.25     realizado  2022    7\n",
       "7   portaldevitau-pro 2022-08-01  27908.47     realizado  2022    8\n",
       "8   portaldevitau-pro 2022-09-01  23666.13     realizado  2022    9\n",
       "9   portaldevitau-pro 2022-10-01  26320.93     realizado  2022   10\n",
       "10  portaldevitau-pro 2022-11-01  24109.25     realizado  2022   11\n",
       "11  portaldevitau-pro 2022-12-01  29935.45     realizado  2022   12\n",
       "12  portaldevitau-pro 2023-01-01  32795.50     realizado  2023    1\n",
       "13  portaldevitau-pro 2023-02-01  28629.42     realizado  2023    2\n",
       "14  portaldevitau-pro 2023-03-01  27179.28     realizado  2023    3\n",
       "15  portaldevitau-pro 2023-04-01  22548.89     realizado  2023    4\n",
       "16  portaldevitau-pro 2023-05-01  18215.99     realizado  2023    5\n",
       "17  portaldevitau-pro 2023-06-01  23096.91     realizado  2023    6\n",
       "18  portaldevitau-pro 2023-07-01  19598.21     realizado  2023    7\n",
       "19  portaldevitau-pro 2023-08-01  15572.22     realizado  2023    8"
      ]
     },
     "execution_count": 62,
     "metadata": {},
     "output_type": "execute_result"
    }
   ],
   "source": [
    "# Convertendo a coluna de data para datetime e extraindo o mês e o ano\n",
    "df['data'] = pd.to_datetime(df['data'], dayfirst=True)\n",
    "df['ano'] = df['data'].dt.year\n",
    "df['mes'] = df['data'].dt.month\n",
    "df"
   ]
  },
  {
   "cell_type": "code",
   "execution_count": 63,
   "id": "760f94e9-a8da-47ae-b231-9d0831cc9b03",
   "metadata": {},
   "outputs": [
    {
     "name": "stderr",
     "output_type": "stream",
     "text": [
      "/home/pimentel/anaconda3/lib/python3.10/site-packages/statsmodels/tsa/statespace/sarimax.py:866: UserWarning:\n",
      "\n",
      "Too few observations to estimate starting parameters for ARMA and trend. All parameters except for variances will be set to zeros.\n",
      "\n",
      "/home/pimentel/anaconda3/lib/python3.10/site-packages/statsmodels/tsa/statespace/sarimax.py:866: UserWarning:\n",
      "\n",
      "Too few observations to estimate starting parameters for seasonal ARMA. All parameters except for variances will be set to zeros.\n",
      "\n",
      "/home/pimentel/anaconda3/lib/python3.10/site-packages/statsmodels/base/model.py:604: ConvergenceWarning:\n",
      "\n",
      "Maximum Likelihood optimization failed to converge. Check mle_retvals\n",
      "\n"
     ]
    }
   ],
   "source": [
    "import numpy as np\n",
    "from statsmodels.tsa.statespace.sarimax import SARIMAX\n",
    "from sklearn.linear_model import LinearRegression\n",
    "from sklearn.metrics import mean_squared_error\n",
    "from sklearn.metrics import mean_absolute_error\n",
    "\n",
    "# Divisão em treino e teste\n",
    "train_size = int(len(df) * 0.8)\n",
    "train, test = df.iloc[:train_size], df.iloc[train_size:]\n",
    "\n",
    "# SARIMA\n",
    "sarima_model = SARIMAX(train['valor'], order=(1, 1, 1), seasonal_order=(1, 1, 1, 12))\n",
    "sarima_fit = sarima_model.fit(disp=False)\n",
    "\n",
    "# Previsões SARIMA\n",
    "sarima_pred = sarima_fit.get_prediction(start=test.index[0], end=test.index[-1], exog=exog_test)\n",
    "sarima_pred_mean = sarima_pred.predicted_mean\n",
    "# Regressão Linear para ajustar aos resíduos\n",
    "residuals = test['valor'] - sarima_pred_mean\n",
    "\n",
    "# Preparação de variáveis para Regressão\n",
    "X = np.column_stack((sarima_pred_mean, exog_test))\n",
    "\n",
    "# Treinamento da Regressão Linear\n",
    "reg_model = LinearRegression()\n",
    "reg_model.fit(X, residuals)\n",
    "\n",
    "# Previsão dos resíduos\n",
    "residual_pred = reg_model.predict(X)\n",
    "\n",
    "# Previsões combinadas\n",
    "final_predictions = sarima_pred_mean + residual_pred"
   ]
  },
  {
   "cell_type": "code",
   "execution_count": 64,
   "id": "543eb786-602b-428b-b32d-75a05490325a",
   "metadata": {},
   "outputs": [
    {
     "data": {
      "application/vnd.plotly.v1+json": {
       "config": {
        "plotlyServerURL": "https://plot.ly"
       },
       "data": [
        {
         "mode": "lines+markers",
         "name": "Dados Históricos",
         "type": "scatter",
         "x": [
          "2022-01-31T00:00:00",
          "2022-02-28T00:00:00",
          "2022-03-31T00:00:00",
          "2022-04-30T00:00:00",
          "2022-05-31T00:00:00",
          "2022-06-30T00:00:00",
          "2022-07-31T00:00:00",
          "2022-08-31T00:00:00",
          "2022-09-30T00:00:00",
          "2022-10-31T00:00:00",
          "2022-11-30T00:00:00",
          "2022-12-31T00:00:00",
          "2023-01-31T00:00:00",
          "2023-02-28T00:00:00",
          "2023-03-31T00:00:00",
          "2023-04-30T00:00:00",
          "2023-05-31T00:00:00",
          "2023-06-30T00:00:00",
          "2023-07-31T00:00:00",
          "2023-08-31T00:00:00"
         ],
         "y": [
          23078.07,
          26745.49,
          30896.18,
          33174.71,
          33042.19,
          30673.48,
          35524.25,
          27908.47,
          23666.13,
          26320.93,
          24109.25,
          29935.45,
          32795.5,
          28629.42,
          27179.28,
          22548.89,
          18215.99,
          23096.91,
          19598.21,
          15572.22
         ]
        },
        {
         "mode": "lines+markers",
         "name": "Previsão",
         "type": "scatter",
         "x": [
          "2023-09-30T00:00:00",
          "2023-10-31T00:00:00",
          "2023-11-30T00:00:00",
          "2023-12-31T00:00:00"
         ],
         "y": [
          14676.782456298319,
          4026.7537619850245,
          5604.250620069537,
          -13103.44575021663,
          -25789.632287610664,
          -26150.007306739557,
          -33630.41017431049,
          -28315.278375844315,
          -36676.790129323635,
          -51396.47076236646,
          -60867.241290483274,
          -74400.31120724401
         ]
        }
       ],
       "layout": {
        "autosize": true,
        "template": {
         "data": {
          "bar": [
           {
            "error_x": {
             "color": "#2a3f5f"
            },
            "error_y": {
             "color": "#2a3f5f"
            },
            "marker": {
             "line": {
              "color": "#E5ECF6",
              "width": 0.5
             },
             "pattern": {
              "fillmode": "overlay",
              "size": 10,
              "solidity": 0.2
             }
            },
            "type": "bar"
           }
          ],
          "barpolar": [
           {
            "marker": {
             "line": {
              "color": "#E5ECF6",
              "width": 0.5
             },
             "pattern": {
              "fillmode": "overlay",
              "size": 10,
              "solidity": 0.2
             }
            },
            "type": "barpolar"
           }
          ],
          "carpet": [
           {
            "aaxis": {
             "endlinecolor": "#2a3f5f",
             "gridcolor": "white",
             "linecolor": "white",
             "minorgridcolor": "white",
             "startlinecolor": "#2a3f5f"
            },
            "baxis": {
             "endlinecolor": "#2a3f5f",
             "gridcolor": "white",
             "linecolor": "white",
             "minorgridcolor": "white",
             "startlinecolor": "#2a3f5f"
            },
            "type": "carpet"
           }
          ],
          "choropleth": [
           {
            "colorbar": {
             "outlinewidth": 0,
             "ticks": ""
            },
            "type": "choropleth"
           }
          ],
          "contour": [
           {
            "colorbar": {
             "outlinewidth": 0,
             "ticks": ""
            },
            "colorscale": [
             [
              0,
              "#0d0887"
             ],
             [
              0.1111111111111111,
              "#46039f"
             ],
             [
              0.2222222222222222,
              "#7201a8"
             ],
             [
              0.3333333333333333,
              "#9c179e"
             ],
             [
              0.4444444444444444,
              "#bd3786"
             ],
             [
              0.5555555555555556,
              "#d8576b"
             ],
             [
              0.6666666666666666,
              "#ed7953"
             ],
             [
              0.7777777777777778,
              "#fb9f3a"
             ],
             [
              0.8888888888888888,
              "#fdca26"
             ],
             [
              1,
              "#f0f921"
             ]
            ],
            "type": "contour"
           }
          ],
          "contourcarpet": [
           {
            "colorbar": {
             "outlinewidth": 0,
             "ticks": ""
            },
            "type": "contourcarpet"
           }
          ],
          "heatmap": [
           {
            "colorbar": {
             "outlinewidth": 0,
             "ticks": ""
            },
            "colorscale": [
             [
              0,
              "#0d0887"
             ],
             [
              0.1111111111111111,
              "#46039f"
             ],
             [
              0.2222222222222222,
              "#7201a8"
             ],
             [
              0.3333333333333333,
              "#9c179e"
             ],
             [
              0.4444444444444444,
              "#bd3786"
             ],
             [
              0.5555555555555556,
              "#d8576b"
             ],
             [
              0.6666666666666666,
              "#ed7953"
             ],
             [
              0.7777777777777778,
              "#fb9f3a"
             ],
             [
              0.8888888888888888,
              "#fdca26"
             ],
             [
              1,
              "#f0f921"
             ]
            ],
            "type": "heatmap"
           }
          ],
          "heatmapgl": [
           {
            "colorbar": {
             "outlinewidth": 0,
             "ticks": ""
            },
            "colorscale": [
             [
              0,
              "#0d0887"
             ],
             [
              0.1111111111111111,
              "#46039f"
             ],
             [
              0.2222222222222222,
              "#7201a8"
             ],
             [
              0.3333333333333333,
              "#9c179e"
             ],
             [
              0.4444444444444444,
              "#bd3786"
             ],
             [
              0.5555555555555556,
              "#d8576b"
             ],
             [
              0.6666666666666666,
              "#ed7953"
             ],
             [
              0.7777777777777778,
              "#fb9f3a"
             ],
             [
              0.8888888888888888,
              "#fdca26"
             ],
             [
              1,
              "#f0f921"
             ]
            ],
            "type": "heatmapgl"
           }
          ],
          "histogram": [
           {
            "marker": {
             "pattern": {
              "fillmode": "overlay",
              "size": 10,
              "solidity": 0.2
             }
            },
            "type": "histogram"
           }
          ],
          "histogram2d": [
           {
            "colorbar": {
             "outlinewidth": 0,
             "ticks": ""
            },
            "colorscale": [
             [
              0,
              "#0d0887"
             ],
             [
              0.1111111111111111,
              "#46039f"
             ],
             [
              0.2222222222222222,
              "#7201a8"
             ],
             [
              0.3333333333333333,
              "#9c179e"
             ],
             [
              0.4444444444444444,
              "#bd3786"
             ],
             [
              0.5555555555555556,
              "#d8576b"
             ],
             [
              0.6666666666666666,
              "#ed7953"
             ],
             [
              0.7777777777777778,
              "#fb9f3a"
             ],
             [
              0.8888888888888888,
              "#fdca26"
             ],
             [
              1,
              "#f0f921"
             ]
            ],
            "type": "histogram2d"
           }
          ],
          "histogram2dcontour": [
           {
            "colorbar": {
             "outlinewidth": 0,
             "ticks": ""
            },
            "colorscale": [
             [
              0,
              "#0d0887"
             ],
             [
              0.1111111111111111,
              "#46039f"
             ],
             [
              0.2222222222222222,
              "#7201a8"
             ],
             [
              0.3333333333333333,
              "#9c179e"
             ],
             [
              0.4444444444444444,
              "#bd3786"
             ],
             [
              0.5555555555555556,
              "#d8576b"
             ],
             [
              0.6666666666666666,
              "#ed7953"
             ],
             [
              0.7777777777777778,
              "#fb9f3a"
             ],
             [
              0.8888888888888888,
              "#fdca26"
             ],
             [
              1,
              "#f0f921"
             ]
            ],
            "type": "histogram2dcontour"
           }
          ],
          "mesh3d": [
           {
            "colorbar": {
             "outlinewidth": 0,
             "ticks": ""
            },
            "type": "mesh3d"
           }
          ],
          "parcoords": [
           {
            "line": {
             "colorbar": {
              "outlinewidth": 0,
              "ticks": ""
             }
            },
            "type": "parcoords"
           }
          ],
          "pie": [
           {
            "automargin": true,
            "type": "pie"
           }
          ],
          "scatter": [
           {
            "fillpattern": {
             "fillmode": "overlay",
             "size": 10,
             "solidity": 0.2
            },
            "type": "scatter"
           }
          ],
          "scatter3d": [
           {
            "line": {
             "colorbar": {
              "outlinewidth": 0,
              "ticks": ""
             }
            },
            "marker": {
             "colorbar": {
              "outlinewidth": 0,
              "ticks": ""
             }
            },
            "type": "scatter3d"
           }
          ],
          "scattercarpet": [
           {
            "marker": {
             "colorbar": {
              "outlinewidth": 0,
              "ticks": ""
             }
            },
            "type": "scattercarpet"
           }
          ],
          "scattergeo": [
           {
            "marker": {
             "colorbar": {
              "outlinewidth": 0,
              "ticks": ""
             }
            },
            "type": "scattergeo"
           }
          ],
          "scattergl": [
           {
            "marker": {
             "colorbar": {
              "outlinewidth": 0,
              "ticks": ""
             }
            },
            "type": "scattergl"
           }
          ],
          "scattermapbox": [
           {
            "marker": {
             "colorbar": {
              "outlinewidth": 0,
              "ticks": ""
             }
            },
            "type": "scattermapbox"
           }
          ],
          "scatterpolar": [
           {
            "marker": {
             "colorbar": {
              "outlinewidth": 0,
              "ticks": ""
             }
            },
            "type": "scatterpolar"
           }
          ],
          "scatterpolargl": [
           {
            "marker": {
             "colorbar": {
              "outlinewidth": 0,
              "ticks": ""
             }
            },
            "type": "scatterpolargl"
           }
          ],
          "scatterternary": [
           {
            "marker": {
             "colorbar": {
              "outlinewidth": 0,
              "ticks": ""
             }
            },
            "type": "scatterternary"
           }
          ],
          "surface": [
           {
            "colorbar": {
             "outlinewidth": 0,
             "ticks": ""
            },
            "colorscale": [
             [
              0,
              "#0d0887"
             ],
             [
              0.1111111111111111,
              "#46039f"
             ],
             [
              0.2222222222222222,
              "#7201a8"
             ],
             [
              0.3333333333333333,
              "#9c179e"
             ],
             [
              0.4444444444444444,
              "#bd3786"
             ],
             [
              0.5555555555555556,
              "#d8576b"
             ],
             [
              0.6666666666666666,
              "#ed7953"
             ],
             [
              0.7777777777777778,
              "#fb9f3a"
             ],
             [
              0.8888888888888888,
              "#fdca26"
             ],
             [
              1,
              "#f0f921"
             ]
            ],
            "type": "surface"
           }
          ],
          "table": [
           {
            "cells": {
             "fill": {
              "color": "#EBF0F8"
             },
             "line": {
              "color": "white"
             }
            },
            "header": {
             "fill": {
              "color": "#C8D4E3"
             },
             "line": {
              "color": "white"
             }
            },
            "type": "table"
           }
          ]
         },
         "layout": {
          "annotationdefaults": {
           "arrowcolor": "#2a3f5f",
           "arrowhead": 0,
           "arrowwidth": 1
          },
          "autotypenumbers": "strict",
          "coloraxis": {
           "colorbar": {
            "outlinewidth": 0,
            "ticks": ""
           }
          },
          "colorscale": {
           "diverging": [
            [
             0,
             "#8e0152"
            ],
            [
             0.1,
             "#c51b7d"
            ],
            [
             0.2,
             "#de77ae"
            ],
            [
             0.3,
             "#f1b6da"
            ],
            [
             0.4,
             "#fde0ef"
            ],
            [
             0.5,
             "#f7f7f7"
            ],
            [
             0.6,
             "#e6f5d0"
            ],
            [
             0.7,
             "#b8e186"
            ],
            [
             0.8,
             "#7fbc41"
            ],
            [
             0.9,
             "#4d9221"
            ],
            [
             1,
             "#276419"
            ]
           ],
           "sequential": [
            [
             0,
             "#0d0887"
            ],
            [
             0.1111111111111111,
             "#46039f"
            ],
            [
             0.2222222222222222,
             "#7201a8"
            ],
            [
             0.3333333333333333,
             "#9c179e"
            ],
            [
             0.4444444444444444,
             "#bd3786"
            ],
            [
             0.5555555555555556,
             "#d8576b"
            ],
            [
             0.6666666666666666,
             "#ed7953"
            ],
            [
             0.7777777777777778,
             "#fb9f3a"
            ],
            [
             0.8888888888888888,
             "#fdca26"
            ],
            [
             1,
             "#f0f921"
            ]
           ],
           "sequentialminus": [
            [
             0,
             "#0d0887"
            ],
            [
             0.1111111111111111,
             "#46039f"
            ],
            [
             0.2222222222222222,
             "#7201a8"
            ],
            [
             0.3333333333333333,
             "#9c179e"
            ],
            [
             0.4444444444444444,
             "#bd3786"
            ],
            [
             0.5555555555555556,
             "#d8576b"
            ],
            [
             0.6666666666666666,
             "#ed7953"
            ],
            [
             0.7777777777777778,
             "#fb9f3a"
            ],
            [
             0.8888888888888888,
             "#fdca26"
            ],
            [
             1,
             "#f0f921"
            ]
           ]
          },
          "colorway": [
           "#636efa",
           "#EF553B",
           "#00cc96",
           "#ab63fa",
           "#FFA15A",
           "#19d3f3",
           "#FF6692",
           "#B6E880",
           "#FF97FF",
           "#FECB52"
          ],
          "font": {
           "color": "#2a3f5f"
          },
          "geo": {
           "bgcolor": "white",
           "lakecolor": "white",
           "landcolor": "#E5ECF6",
           "showlakes": true,
           "showland": true,
           "subunitcolor": "white"
          },
          "hoverlabel": {
           "align": "left"
          },
          "hovermode": "closest",
          "mapbox": {
           "style": "light"
          },
          "paper_bgcolor": "white",
          "plot_bgcolor": "#E5ECF6",
          "polar": {
           "angularaxis": {
            "gridcolor": "white",
            "linecolor": "white",
            "ticks": ""
           },
           "bgcolor": "#E5ECF6",
           "radialaxis": {
            "gridcolor": "white",
            "linecolor": "white",
            "ticks": ""
           }
          },
          "scene": {
           "xaxis": {
            "backgroundcolor": "#E5ECF6",
            "gridcolor": "white",
            "gridwidth": 2,
            "linecolor": "white",
            "showbackground": true,
            "ticks": "",
            "zerolinecolor": "white"
           },
           "yaxis": {
            "backgroundcolor": "#E5ECF6",
            "gridcolor": "white",
            "gridwidth": 2,
            "linecolor": "white",
            "showbackground": true,
            "ticks": "",
            "zerolinecolor": "white"
           },
           "zaxis": {
            "backgroundcolor": "#E5ECF6",
            "gridcolor": "white",
            "gridwidth": 2,
            "linecolor": "white",
            "showbackground": true,
            "ticks": "",
            "zerolinecolor": "white"
           }
          },
          "shapedefaults": {
           "line": {
            "color": "#2a3f5f"
           }
          },
          "ternary": {
           "aaxis": {
            "gridcolor": "white",
            "linecolor": "white",
            "ticks": ""
           },
           "baxis": {
            "gridcolor": "white",
            "linecolor": "white",
            "ticks": ""
           },
           "bgcolor": "#E5ECF6",
           "caxis": {
            "gridcolor": "white",
            "linecolor": "white",
            "ticks": ""
           }
          },
          "title": {
           "x": 0.05
          },
          "xaxis": {
           "automargin": true,
           "gridcolor": "white",
           "linecolor": "white",
           "ticks": "",
           "title": {
            "standoff": 15
           },
           "zerolinecolor": "white",
           "zerolinewidth": 2
          },
          "yaxis": {
           "automargin": true,
           "gridcolor": "white",
           "linecolor": "white",
           "ticks": "",
           "title": {
            "standoff": 15
           },
           "zerolinecolor": "white",
           "zerolinewidth": 2
          }
         }
        },
        "title": {
         "text": "Previsão de Custos AWS para os Próximos 5 Meses"
        },
        "xaxis": {
         "autorange": true,
         "range": [
          "2021-12-20 07:22:10.7806",
          "2024-02-10 16:37:49.2194"
         ],
         "title": {
          "text": "Tempo"
         },
         "type": "date"
        },
        "yaxis": {
         "autorange": true,
         "range": [
          -17116.410933486935,
          39537.2151832703
         ],
         "title": {
          "text": "Valor"
         },
         "type": "linear"
        }
       }
      },
      "image/png": "[encoded data removed]",
      "text/html": [
       "<div>                            <div id=\"fed841ab-5d4a-4ae4-a162-70d282fcec91\" class=\"plotly-graph-div\" style=\"height:525px; width:100%;\"></div>            <script type=\"text/javascript\">                require([\"plotly\"], function(Plotly) {                    window.PLOTLYENV=window.PLOTLYENV || {};                                    if (document.getElementById(\"fed841ab-5d4a-4ae4-a162-70d282fcec91\")) {                    Plotly.newPlot(                        \"fed841ab-5d4a-4ae4-a162-70d282fcec91\",                        [{\"mode\":\"lines+markers\",\"name\":\"Dados Hist\\u00f3ricos\",\"x\":[\"2022-01-31T00:00:00\",\"2022-02-28T00:00:00\",\"2022-03-31T00:00:00\",\"2022-04-30T00:00:00\",\"2022-05-31T00:00:00\",\"2022-06-30T00:00:00\",\"2022-07-31T00:00:00\",\"2022-08-31T00:00:00\",\"2022-09-30T00:00:00\",\"2022-10-31T00:00:00\",\"2022-11-30T00:00:00\",\"2022-12-31T00:00:00\",\"2023-01-31T00:00:00\",\"2023-02-28T00:00:00\",\"2023-03-31T00:00:00\",\"2023-04-30T00:00:00\",\"2023-05-31T00:00:00\",\"2023-06-30T00:00:00\",\"2023-07-31T00:00:00\",\"2023-08-31T00:00:00\"],\"y\":[23078.07,26745.49,30896.18,33174.71,33042.19,30673.48,35524.25,27908.47,23666.13,26320.93,24109.25,29935.45,32795.5,28629.42,27179.28,22548.89,18215.99,23096.91,19598.21,15572.22],\"type\":\"scatter\"},{\"mode\":\"lines+markers\",\"name\":\"Previs\\u00e3o\",\"x\":[\"2023-09-30T00:00:00\",\"2023-10-31T00:00:00\",\"2023-11-30T00:00:00\",\"2023-12-31T00:00:00\"],\"y\":[14676.782456298319,4026.7537619850245,5604.250620069537,-13103.44575021663,-25789.632287610664,-26150.007306739557,-33630.41017431049,-28315.278375844315,-36676.790129323635,-51396.47076236646,-60867.241290483274,-74400.31120724401],\"type\":\"scatter\"}],                        {\"template\":{\"data\":{\"histogram2dcontour\":[{\"type\":\"histogram2dcontour\",\"colorbar\":{\"outlinewidth\":0,\"ticks\":\"\"},\"colorscale\":[[0.0,\"#0d0887\"],[0.1111111111111111,\"#46039f\"],[0.2222222222222222,\"#7201a8\"],[0.3333333333333333,\"#9c179e\"],[0.4444444444444444,\"#bd3786\"],[0.5555555555555556,\"#d8576b\"],[0.6666666666666666,\"#ed7953\"],[0.7777777777777778,\"#fb9f3a\"],[0.8888888888888888,\"#fdca26\"],[1.0,\"#f0f921\"]]}],\"choropleth\":[{\"type\":\"choropleth\",\"colorbar\":{\"outlinewidth\":0,\"ticks\":\"\"}}],\"histogram2d\":[{\"type\":\"histogram2d\",\"colorbar\":{\"outlinewidth\":0,\"ticks\":\"\"},\"colorscale\":[[0.0,\"#0d0887\"],[0.1111111111111111,\"#46039f\"],[0.2222222222222222,\"#7201a8\"],[0.3333333333333333,\"#9c179e\"],[0.4444444444444444,\"#bd3786\"],[0.5555555555555556,\"#d8576b\"],[0.6666666666666666,\"#ed7953\"],[0.7777777777777778,\"#fb9f3a\"],[0.8888888888888888,\"#fdca26\"],[1.0,\"#f0f921\"]]}],\"heatmap\":[{\"type\":\"heatmap\",\"colorbar\":{\"outlinewidth\":0,\"ticks\":\"\"},\"colorscale\":[[0.0,\"#0d0887\"],[0.1111111111111111,\"#46039f\"],[0.2222222222222222,\"#7201a8\"],[0.3333333333333333,\"#9c179e\"],[0.4444444444444444,\"#bd3786\"],[0.5555555555555556,\"#d8576b\"],[0.6666666666666666,\"#ed7953\"],[0.7777777777777778,\"#fb9f3a\"],[0.8888888888888888,\"#fdca26\"],[1.0,\"#f0f921\"]]}],\"heatmapgl\":[{\"type\":\"heatmapgl\",\"colorbar\":{\"outlinewidth\":0,\"ticks\":\"\"},\"colorscale\":[[0.0,\"#0d0887\"],[0.1111111111111111,\"#46039f\"],[0.2222222222222222,\"#7201a8\"],[0.3333333333333333,\"#9c179e\"],[0.4444444444444444,\"#bd3786\"],[0.5555555555555556,\"#d8576b\"],[0.6666666666666666,\"#ed7953\"],[0.7777777777777778,\"#fb9f3a\"],[0.8888888888888888,\"#fdca26\"],[1.0,\"#f0f921\"]]}],\"contourcarpet\":[{\"type\":\"contourcarpet\",\"colorbar\":{\"outlinewidth\":0,\"ticks\":\"\"}}],\"contour\":[{\"type\":\"contour\",\"colorbar\":{\"outlinewidth\":0,\"ticks\":\"\"},\"colorscale\":[[0.0,\"#0d0887\"],[0.1111111111111111,\"#46039f\"],[0.2222222222222222,\"#7201a8\"],[0.3333333333333333,\"#9c179e\"],[0.4444444444444444,\"#bd3786\"],[0.5555555555555556,\"#d8576b\"],[0.6666666666666666,\"#ed7953\"],[0.7777777777777778,\"#fb9f3a\"],[0.8888888888888888,\"#fdca26\"],[1.0,\"#f0f921\"]]}],\"surface\":[{\"type\":\"surface\",\"colorbar\":{\"outlinewidth\":0,\"ticks\":\"\"},\"colorscale\":[[0.0,\"#0d0887\"],[0.1111111111111111,\"#46039f\"],[0.2222222222222222,\"#7201a8\"],[0.3333333333333333,\"#9c179e\"],[0.4444444444444444,\"#bd3786\"],[0.5555555555555556,\"#d8576b\"],[0.6666666666666666,\"#ed7953\"],[0.7777777777777778,\"#fb9f3a\"],[0.8888888888888888,\"#fdca26\"],[1.0,\"#f0f921\"]]}],\"mesh3d\":[{\"type\":\"mesh3d\",\"colorbar\":{\"outlinewidth\":0,\"ticks\":\"\"}}],\"scatter\":[{\"fillpattern\":{\"fillmode\":\"overlay\",\"size\":10,\"solidity\":0.2},\"type\":\"scatter\"}],\"parcoords\":[{\"type\":\"parcoords\",\"line\":{\"colorbar\":{\"outlinewidth\":0,\"ticks\":\"\"}}}],\"scatterpolargl\":[{\"type\":\"scatterpolargl\",\"marker\":{\"colorbar\":{\"outlinewidth\":0,\"ticks\":\"\"}}}],\"bar\":[{\"error_x\":{\"color\":\"#2a3f5f\"},\"error_y\":{\"color\":\"#2a3f5f\"},\"marker\":{\"line\":{\"color\":\"#E5ECF6\",\"width\":0.5},\"pattern\":{\"fillmode\":\"overlay\",\"size\":10,\"solidity\":0.2}},\"type\":\"bar\"}],\"scattergeo\":[{\"type\":\"scattergeo\",\"marker\":{\"colorbar\":{\"outlinewidth\":0,\"ticks\":\"\"}}}],\"scatterpolar\":[{\"type\":\"scatterpolar\",\"marker\":{\"colorbar\":{\"outlinewidth\":0,\"ticks\":\"\"}}}],\"histogram\":[{\"marker\":{\"pattern\":{\"fillmode\":\"overlay\",\"size\":10,\"solidity\":0.2}},\"type\":\"histogram\"}],\"scattergl\":[{\"type\":\"scattergl\",\"marker\":{\"colorbar\":{\"outlinewidth\":0,\"ticks\":\"\"}}}],\"scatter3d\":[{\"type\":\"scatter3d\",\"line\":{\"colorbar\":{\"outlinewidth\":0,\"ticks\":\"\"}},\"marker\":{\"colorbar\":{\"outlinewidth\":0,\"ticks\":\"\"}}}],\"scattermapbox\":[{\"type\":\"scattermapbox\",\"marker\":{\"colorbar\":{\"outlinewidth\":0,\"ticks\":\"\"}}}],\"scatterternary\":[{\"type\":\"scatterternary\",\"marker\":{\"colorbar\":{\"outlinewidth\":0,\"ticks\":\"\"}}}],\"scattercarpet\":[{\"type\":\"scattercarpet\",\"marker\":{\"colorbar\":{\"outlinewidth\":0,\"ticks\":\"\"}}}],\"carpet\":[{\"aaxis\":{\"endlinecolor\":\"#2a3f5f\",\"gridcolor\":\"white\",\"linecolor\":\"white\",\"minorgridcolor\":\"white\",\"startlinecolor\":\"#2a3f5f\"},\"baxis\":{\"endlinecolor\":\"#2a3f5f\",\"gridcolor\":\"white\",\"linecolor\":\"white\",\"minorgridcolor\":\"white\",\"startlinecolor\":\"#2a3f5f\"},\"type\":\"carpet\"}],\"table\":[{\"cells\":{\"fill\":{\"color\":\"#EBF0F8\"},\"line\":{\"color\":\"white\"}},\"header\":{\"fill\":{\"color\":\"#C8D4E3\"},\"line\":{\"color\":\"white\"}},\"type\":\"table\"}],\"barpolar\":[{\"marker\":{\"line\":{\"color\":\"#E5ECF6\",\"width\":0.5},\"pattern\":{\"fillmode\":\"overlay\",\"size\":10,\"solidity\":0.2}},\"type\":\"barpolar\"}],\"pie\":[{\"automargin\":true,\"type\":\"pie\"}]},\"layout\":{\"autotypenumbers\":\"strict\",\"colorway\":[\"#636efa\",\"#EF553B\",\"#00cc96\",\"#ab63fa\",\"#FFA15A\",\"#19d3f3\",\"#FF6692\",\"#B6E880\",\"#FF97FF\",\"#FECB52\"],\"font\":{\"color\":\"#2a3f5f\"},\"hovermode\":\"closest\",\"hoverlabel\":{\"align\":\"left\"},\"paper_bgcolor\":\"white\",\"plot_bgcolor\":\"#E5ECF6\",\"polar\":{\"bgcolor\":\"#E5ECF6\",\"angularaxis\":{\"gridcolor\":\"white\",\"linecolor\":\"white\",\"ticks\":\"\"},\"radialaxis\":{\"gridcolor\":\"white\",\"linecolor\":\"white\",\"ticks\":\"\"}},\"ternary\":{\"bgcolor\":\"#E5ECF6\",\"aaxis\":{\"gridcolor\":\"white\",\"linecolor\":\"white\",\"ticks\":\"\"},\"baxis\":{\"gridcolor\":\"white\",\"linecolor\":\"white\",\"ticks\":\"\"},\"caxis\":{\"gridcolor\":\"white\",\"linecolor\":\"white\",\"ticks\":\"\"}},\"coloraxis\":{\"colorbar\":{\"outlinewidth\":0,\"ticks\":\"\"}},\"colorscale\":{\"sequential\":[[0.0,\"#0d0887\"],[0.1111111111111111,\"#46039f\"],[0.2222222222222222,\"#7201a8\"],[0.3333333333333333,\"#9c179e\"],[0.4444444444444444,\"#bd3786\"],[0.5555555555555556,\"#d8576b\"],[0.6666666666666666,\"#ed7953\"],[0.7777777777777778,\"#fb9f3a\"],[0.8888888888888888,\"#fdca26\"],[1.0,\"#f0f921\"]],\"sequentialminus\":[[0.0,\"#0d0887\"],[0.1111111111111111,\"#46039f\"],[0.2222222222222222,\"#7201a8\"],[0.3333333333333333,\"#9c179e\"],[0.4444444444444444,\"#bd3786\"],[0.5555555555555556,\"#d8576b\"],[0.6666666666666666,\"#ed7953\"],[0.7777777777777778,\"#fb9f3a\"],[0.8888888888888888,\"#fdca26\"],[1.0,\"#f0f921\"]],\"diverging\":[[0,\"#8e0152\"],[0.1,\"#c51b7d\"],[0.2,\"#de77ae\"],[0.3,\"#f1b6da\"],[0.4,\"#fde0ef\"],[0.5,\"#f7f7f7\"],[0.6,\"#e6f5d0\"],[0.7,\"#b8e186\"],[0.8,\"#7fbc41\"],[0.9,\"#4d9221\"],[1,\"#276419\"]]},\"xaxis\":{\"gridcolor\":\"white\",\"linecolor\":\"white\",\"ticks\":\"\",\"title\":{\"standoff\":15},\"zerolinecolor\":\"white\",\"automargin\":true,\"zerolinewidth\":2},\"yaxis\":{\"gridcolor\":\"white\",\"linecolor\":\"white\",\"ticks\":\"\",\"title\":{\"standoff\":15},\"zerolinecolor\":\"white\",\"automargin\":true,\"zerolinewidth\":2},\"scene\":{\"xaxis\":{\"backgroundcolor\":\"#E5ECF6\",\"gridcolor\":\"white\",\"linecolor\":\"white\",\"showbackground\":true,\"ticks\":\"\",\"zerolinecolor\":\"white\",\"gridwidth\":2},\"yaxis\":{\"backgroundcolor\":\"#E5ECF6\",\"gridcolor\":\"white\",\"linecolor\":\"white\",\"showbackground\":true,\"ticks\":\"\",\"zerolinecolor\":\"white\",\"gridwidth\":2},\"zaxis\":{\"backgroundcolor\":\"#E5ECF6\",\"gridcolor\":\"white\",\"linecolor\":\"white\",\"showbackground\":true,\"ticks\":\"\",\"zerolinecolor\":\"white\",\"gridwidth\":2}},\"shapedefaults\":{\"line\":{\"color\":\"#2a3f5f\"}},\"annotationdefaults\":{\"arrowcolor\":\"#2a3f5f\",\"arrowhead\":0,\"arrowwidth\":1},\"geo\":{\"bgcolor\":\"white\",\"landcolor\":\"#E5ECF6\",\"subunitcolor\":\"white\",\"showland\":true,\"showlakes\":true,\"lakecolor\":\"white\"},\"title\":{\"x\":0.05},\"mapbox\":{\"style\":\"light\"}}},\"title\":{\"text\":\"Previs\\u00e3o de Custos AWS para os Pr\\u00f3ximos 5 Meses\"},\"xaxis\":{\"title\":{\"text\":\"Tempo\"}},\"yaxis\":{\"title\":{\"text\":\"Valor\"}}},                        {\"responsive\": true}                    ).then(function(){\n",
       "                            \n",
       "var gd = document.getElementById('fed841ab-5d4a-4ae4-a162-70d282fcec91');\n",
       "var x = new MutationObserver(function (mutations, observer) {{\n",
       "        var display = window.getComputedStyle(gd).display;\n",
       "        if (!display || display === 'none') {{\n",
       "            console.log([gd, 'removed!']);\n",
       "            Plotly.purge(gd);\n",
       "            observer.disconnect();\n",
       "        }}\n",
       "}});\n",
       "\n",
       "// Listen for the removal of the full notebook cells\n",
       "var notebookContainer = gd.closest('#notebook-container');\n",
       "if (notebookContainer) {{\n",
       "    x.observe(notebookContainer, {childList: true});\n",
       "}}\n",
       "\n",
       "// Listen for the clearing of the current output cell\n",
       "var outputEl = gd.closest('.output');\n",
       "if (outputEl) {{\n",
       "    x.observe(outputEl, {childList: true});\n",
       "}}\n",
       "\n",
       "                        })                };                });            </script>        </div>"
      ]
     },
     "metadata": {},
     "output_type": "display_data"
    }
   ],
   "source": [
    "import plotly.graph_objects as go\n",
    "\n",
    "# Supondo que 'sarima_fit' é o seu modelo SARIMA ajustado\n",
    "forecast = sarima_fit.get_forecast(steps=12)\n",
    "mean_forecast = forecast.predicted_mean\n",
    "\n",
    "# Dados históricos\n",
    "historical_data = df['valor'].values\n",
    "\n",
    "# Dados de previsão\n",
    "forecast_data = mean_forecast.values\n",
    "\n",
    "# Concatenar dados históricos e de previsão\n",
    "total_data = np.concatenate([historical_data, forecast_data])\n",
    "\n",
    "# Criar o eixo de tempo para os dados históricos e previsão\n",
    "time_historical = pd.date_range(start=df['data'].iloc[0], periods=len(historical_data), freq='M')\n",
    "time_forecast = pd.date_range(start=time_historical[-1], periods=5, freq='M')[1:]  # Excluindo o último mês histórico\n",
    "time_total = time_historical.append(time_forecast)\n",
    "\n",
    "# Criar o gráfico\n",
    "fig = go.Figure()\n",
    "\n",
    "# Adicionar dados históricos\n",
    "fig.add_trace(go.Scatter(x=time_historical, y=historical_data, mode='lines+markers', name='Dados Históricos'))\n",
    "\n",
    "# Adicionar previsões\n",
    "fig.add_trace(go.Scatter(x=time_forecast, y=forecast_data, mode='lines+markers', name='Previsão'))\n",
    "\n",
    "# Layout\n",
    "fig.update_layout(title='Previsão de Custos AWS para os Próximos 5 Meses',\n",
    "                  xaxis_title='Tempo',\n",
    "                  yaxis_title='Valor')\n",
    "\n",
    "# Mostrar gráfico\n",
    "fig.show()\n"
   ]
  },
  {
   "cell_type": "code",
   "execution_count": 65,
   "id": "ce22fb9a-f6d9-4e21-938d-188b76cb68c1",
   "metadata": {},
   "outputs": [],
   "source": [
    "from statsmodels.stats.diagnostic import acorr_ljungbox, het_breuschpagan\n",
    "from scipy.stats import shapiro, anderson\n",
    "from sklearn.metrics import mean_squared_error, mean_absolute_error\n",
    "import numpy as np\n",
    "\n",
    "def calculate_metrics(y_true, y_pred):\n",
    "    # Resíduos\n",
    "    residuals = y_true - y_pred\n",
    "    \n",
    "    # Durbin-Watson\n",
    "    dw = np.sum(np.diff(residuals)**2) / np.sum(residuals**2)\n",
    "    print(f'Durbin-Watson statistic: {dw}')\n",
    "    \n",
    "    # Lagrange Multiplier Test (Breusch-Pagan)\n",
    "    lm_stats = het_breuschpagan(residuals, np.column_stack([y_pred, y_pred**2]))  # Altere isto conforme suas variáveis exógenas\n",
    "    print(f\"Lagrange multiplier statistic: {lm_stats[0]}\")\n",
    "    print(f\"p-value: {lm_stats[1]}\")\n",
    "    print(f\"f-value: {lm_stats[2]}\")\n",
    "    print(f\"f p-value: {lm_stats[3]}\")\n",
    "    \n",
    "    # Shapiro-Wilk Test\n",
    "    shapiro_p_value = shapiro(residuals)[1]\n",
    "    print(f'Shapiro-Wilk p-value: {shapiro_p_value}')\n",
    "    \n",
    "    # Anderson-Darling Test\n",
    "    ad_statistic = anderson(residuals).statistic\n",
    "    print(f'Anderson-Darling statistic: {ad_statistic}')\n",
    "    \n",
    "    # Mean Squared Error (MSE)\n",
    "    mse = mean_squared_error(y_true, y_pred)\n",
    "    print(f'Mean Squared Error: {mse}')\n",
    "    \n",
    "    # Mean Absolute Error (MAE)\n",
    "    mae = mean_absolute_error(y_true, y_pred)\n",
    "    print(f'MAE: {mae}')\n",
    "    \n",
    "    # Mean Absolute Percentage Error (MAPE)\n",
    "    mape = np.mean(np.abs((y_true - y_pred) / y_true)) * 100\n",
    "    print(f'MAPE: {mape}%')"
   ]
  },
  {
   "cell_type": "code",
   "execution_count": 66,
   "id": "25a810b8-8d21-4000-be28-e99af83e3e58",
   "metadata": {},
   "outputs": [
    {
     "name": "stdout",
     "output_type": "stream",
     "text": [
      "Durbin-Watson statistic: 2.574452616634131\n",
      "Lagrange multiplier statistic: 1.8562115687009855\n",
      "p-value: 0.1730626770380675\n",
      "f-value: 0.8658557633769048\n",
      "f p-value: 0.5359471078247536\n",
      "Shapiro-Wilk p-value: 0.20888833701610565\n",
      "Anderson-Darling statistic: 0.41009489419161227\n",
      "Mean Squared Error: 5579758.000996625\n",
      "MAE: 1979.5312396584845\n",
      "MAPE: 9.994082120678858%\n"
     ]
    }
   ],
   "source": [
    "y_true = test['valor'].to_numpy()\n",
    "y_pred = final_predictions.to_numpy()\n",
    "\n",
    "calculate_metrics(y_true, y_pred)"
   ]
  },
  {
   "cell_type": "code",
   "execution_count": 67,
   "id": "3e9aff33-7628-4907-a136-dd2a786320d8",
   "metadata": {},
   "outputs": [
    {
     "data": {
      "image/png": "[encoded data removed]",
      "text/plain": [
       "<Figure size 1000x600 with 1 Axes>"
      ]
     },
     "metadata": {},
     "output_type": "display_data"
    }
   ],
   "source": [
    "import pandas as pd\n",
    "import numpy as np\n",
    "import matplotlib.pyplot as plt\n",
    "from scipy.optimize import curve_fit\n",
    "\n",
    "df['data'] = pd.to_datetime(df['data'])\n",
    "df.set_index('data', inplace=True)\n",
    "df.sort_index(inplace=True)\n",
    "def logistic_transition(x, gamma, c):\n",
    "    return 1 / (1 + np.exp(-gamma * (x - c)))\n",
    "\n",
    "def estr_model(x, gamma, c, phi1_0, phi1_1, phi2_0, phi2_1):\n",
    "    transition = logistic_transition(x, gamma, c)\n",
    "    return (1 - transition) * (phi1_0 + phi1_1 * x) + transition * (phi2_0 + phi2_1 * x)\n",
    "\n",
    "x = np.linspace(0, len(df) - 1, len(df))\n",
    "y = df['valor'].values\n",
    "\n",
    "# Parâmetros iniciais: gamma, c, phi1_0, phi1_1, phi2_0, phi2_1\n",
    "initial_params = [1, len(df) // 2, 0, 1, 0, 1]\n",
    "\n",
    "params, params_covariance = curve_fit(estr_model, x, y, p0=initial_params)\n",
    "\n",
    "plt.figure(figsize=(10, 6))\n",
    "plt.scatter(x, y, label='Dados Reais')\n",
    "plt.plot(x, estr_model(x, *params), label='Modelo ESTR', linewidth=2)\n",
    "plt.legend()\n",
    "plt.show()\n"
   ]
  },
  {
   "cell_type": "code",
   "execution_count": 68,
   "id": "0209ddd4-41de-436f-ab98-f3be1926f7fe",
   "metadata": {},
   "outputs": [
    {
     "data": {
      "image/png": "[encoded data removed]",
      "text/plain": [
       "<Figure size 1000x600 with 1 Axes>"
      ]
     },
     "metadata": {},
     "output_type": "display_data"
    },
    {
     "name": "stdout",
     "output_type": "stream",
     "text": [
      "Valores previstos para os próximos 12 meses: [18457.9247297  17549.77193547 16641.61914128 15733.46634709\n",
      " 14825.3135529  13917.16075871 13009.00796452 12100.85517034\n",
      " 11192.70237615 10284.54958196  9376.39678777  8468.24399359]\n"
     ]
    }
   ],
   "source": [
    "# Estenda o domínio x para os próximos 12 meses\n",
    "x_future = np.linspace(len(df), len(df) + 11, 12)\n",
    "\n",
    "# Use a função estr_model para fazer as previsões\n",
    "y_future = estr_model(x_future, *params)\n",
    "\n",
    "# Assegure que os valores não sejam negativos\n",
    "y_future = np.maximum(y_future, 0)\n",
    "\n",
    "# Plote os dados atuais e as previsões\n",
    "plt.figure(figsize=(10, 6))\n",
    "plt.scatter(x, y, label='Dados Reais')\n",
    "plt.plot(x, estr_model(x, *params), label='Modelo ESTR', linewidth=2)\n",
    "plt.scatter(x_future, y_future, label='Previsões para 12 meses', c='red')\n",
    "plt.legend()\n",
    "plt.show()\n",
    "\n",
    "# Exiba os valores previstos para os próximos 12 meses\n",
    "print(\"Valores previstos para os próximos 12 meses:\", y_future)"
   ]
  },
  {
   "cell_type": "code",
   "execution_count": 69,
   "id": "fe45915d-133c-460e-8bda-87cf30eef92b",
   "metadata": {},
   "outputs": [
    {
     "name": "stdout",
     "output_type": "stream",
     "text": [
      "Durbin-Watson statistic: 1.2919641472899832\n",
      "Lagrange multiplier statistic: 7.938889763577317\n",
      "p-value: 0.004838351037277375\n",
      "f-value: 5.92399923984012\n",
      "f p-value: 0.010549105137098998\n",
      "Shapiro-Wilk p-value: 0.7353243231773376\n",
      "Anderson-Darling statistic: 0.32753635131009773\n",
      "Mean Squared Error: 9753266.523800932\n",
      "MAE: 2388.330147258705\n",
      "MAPE: 9.485856419047776%\n"
     ]
    }
   ],
   "source": [
    "y_true = y\n",
    "y_pred = estr_model(x, *params)\n",
    "\n",
    "calculate_metrics(y_true, y_pred)\n"
   ]
  },
  {
   "cell_type": "code",
   "execution_count": null,
   "id": "d6c96655-9f1a-4019-9b28-4fb6617d1fcf",
   "metadata": {},
   "outputs": [],
   "source": [
    "# 3. Combinação de Previsões\n",
    "X_combined = np.column_stack((sarima_pred_mean, estr_pred))\n",
    "y_true = test['valor'].values  # Valores reais\n",
    "\n",
    "# Treinando o modelo de regressão linear\n",
    "reg_model = LinearRegression()\n",
    "reg_model.fit(X_combined, y_true)\n",
    "\n",
    "# 4. Previsão Final\n",
    "final_prediction = reg_model.predict(X_combined)\n",
    "\n",
    "# Assegurando que os valores previstos não sejam negativos\n",
    "final_prediction = np.maximum(final_prediction, 0)"
   ]
  },
  {
   "cell_type": "code",
   "execution_count": null,
   "id": "3b020e3e-a02b-4336-a09b-edb53d8929b6",
   "metadata": {},
   "outputs": [],
   "source": [
    "Análise de Fourier para Sazonalidade:"
   ]
  },
  {
   "cell_type": "code",
   "execution_count": 70,
   "id": "7c27c632-d61a-440d-a671-5c1ab1b44207",
   "metadata": {},
   "outputs": [
    {
     "name": "stdout",
     "output_type": "stream",
     "text": [
      "Mean Squared Error: 5632060.140622771\n",
      "Mean Absolute Error: 2075.7687073875527\n"
     ]
    }
   ],
   "source": [
    "from sklearn.linear_model import LinearRegression\n",
    "from sklearn.metrics import mean_squared_error\n",
    "\n",
    "# Primeiramente, crie as previsões SARIMA para os dados de teste\n",
    "sarima_pred = sarima_fit.get_prediction(start=test.index[0], end=test.index[-1])\n",
    "sarima_pred_mean = sarima_pred.predicted_mean\n",
    "\n",
    "# Crie as previsões ESTR para os dados de teste\n",
    "x_test = np.linspace(len(train), len(df) - 1, len(test))\n",
    "estr_pred = estr_model(x_test, *params)\n",
    "\n",
    "# Assegure que os valores não sejam negativos\n",
    "estr_pred = np.maximum(estr_pred, 0)\n",
    "\n",
    "# Combine as previsões SARIMA e ESTR para criar um novo conjunto de características\n",
    "X_combined = np.column_stack((sarima_pred_mean, estr_pred))\n",
    "\n",
    "# O valor real que você deseja prever\n",
    "y_true = test['valor'].values\n",
    "\n",
    "# Treine o modelo de regressão linear para fazer a previsão final usando ambas as previsões\n",
    "final_model = LinearRegression()\n",
    "final_model.fit(X_combined, y_true)\n",
    "\n",
    "# Faça a previsão final\n",
    "final_prediction = final_model.predict(X_combined)\n",
    "\n",
    "# Assegure que os valores não sejam negativos\n",
    "final_prediction = np.maximum(final_prediction, 0)\n",
    "\n",
    "# Avalie o modelo final usando métricas como o MSE e o MAE\n",
    "mse = mean_squared_error(y_true, final_prediction)\n",
    "mae = mean_absolute_error(y_true, final_prediction)\n",
    "\n",
    "print(f'Mean Squared Error: {mse}')\n",
    "print(f'Mean Absolute Error: {mae}')\n"
   ]
  },
  {
   "cell_type": "code",
   "execution_count": 71,
   "id": "0a86a084-216f-4c12-89e4-3213e20d37fb",
   "metadata": {},
   "outputs": [
    {
     "data": {
      "image/png": "[encoded data removed]",
      "text/plain": [
       "<Figure size 1500x800 with 1 Axes>"
      ]
     },
     "metadata": {},
     "output_type": "display_data"
    }
   ],
   "source": [
    "import matplotlib.pyplot as plt\n",
    "\n",
    "# Estenda o domínio para os próximos 12 meses\n",
    "future_months = 12\n",
    "x_sarima_future = np.linspace(len(df), len(df) + future_months - 1, future_months)\n",
    "x_estr_future = np.linspace(len(df), len(df) + future_months - 1, future_months)\n",
    "\n",
    "# Gerar previsões SARIMA e ESTR para o futuro\n",
    "sarima_future = sarima_fit.get_forecast(steps=future_months).predicted_mean\n",
    "estr_future = estr_model(x_estr_future, *params)\n",
    "\n",
    "# Assegure que os valores não sejam negativos\n",
    "estr_future = np.maximum(estr_future, 0)\n",
    "\n",
    "# Combinar as previsões SARIMA e ESTR\n",
    "X_future_combined = np.column_stack((sarima_future, estr_future))\n",
    "\n",
    "# Use o modelo de regressão linear para fazer a previsão final\n",
    "final_future_prediction = final_model.predict(X_future_combined)\n",
    "\n",
    "# Assegure que os valores não sejam negativos\n",
    "final_future_prediction = np.maximum(final_future_prediction, 0)\n",
    "\n",
    "# Dados originais e previsão para os próximos 12 meses\n",
    "x_all = np.concatenate([x, x_estr_future])\n",
    "y_all = np.concatenate([y, final_future_prediction])\n",
    "\n",
    "# Plot\n",
    "plt.figure(figsize=(15, 8))\n",
    "plt.scatter(x, y, label='Dados Reais', c='blue')\n",
    "plt.plot(x_all, y_all, label='Previsão Combinada', c='green')\n",
    "plt.scatter(x_estr_future, final_future_prediction, c='red', label='Previsão para os próximos 12 meses')\n",
    "plt.legend()\n",
    "plt.title('Previsão para os Próximos 12 Meses')\n",
    "plt.xlabel('Mês')\n",
    "plt.ylabel('Valor')\n",
    "plt.show()\n"
   ]
  },
  {
   "cell_type": "code",
   "execution_count": 72,
   "id": "328008d4-d1de-4641-8cfe-1eff21c1c8bf",
   "metadata": {},
   "outputs": [
    {
     "ename": "ValueError",
     "evalue": "x and y must have same first dimension, but have shapes (20,) and (4,)",
     "output_type": "error",
     "traceback": [
      "\u001b[0;31m---------------------------------------------------------------------------\u001b[0m",
      "\u001b[0;31mValueError\u001b[0m                                Traceback (most recent call last)",
      "Cell \u001b[0;32mIn[79], line 26\u001b[0m\n\u001b[1;32m     23\u001b[0m final_predictions_future \u001b[38;5;241m=\u001b[39m np\u001b[38;5;241m.\u001b[39marange(\u001b[38;5;28mlen\u001b[39m(df), \u001b[38;5;28mlen\u001b[39m(df) \u001b[38;5;241m+\u001b[39m \u001b[38;5;241m12\u001b[39m)\n\u001b[1;32m     25\u001b[0m plt\u001b[38;5;241m.\u001b[39mscatter(x_current, df[\u001b[38;5;124m'\u001b[39m\u001b[38;5;124mvalor\u001b[39m\u001b[38;5;124m'\u001b[39m], label\u001b[38;5;241m=\u001b[39m\u001b[38;5;124m'\u001b[39m\u001b[38;5;124mDados Reais\u001b[39m\u001b[38;5;124m'\u001b[39m, c \u001b[38;5;241m=\u001b[39m \u001b[38;5;124m'\u001b[39m\u001b[38;5;124mblue\u001b[39m\u001b[38;5;124m'\u001b[39m)\n\u001b[0;32m---> 26\u001b[0m \u001b[43mplt\u001b[49m\u001b[38;5;241;43m.\u001b[39;49m\u001b[43mplot\u001b[49m\u001b[43m(\u001b[49m\u001b[43mx_current\u001b[49m\u001b[43m,\u001b[49m\u001b[43m \u001b[49m\u001b[43mfinal_predictions_weighted\u001b[49m\u001b[43m,\u001b[49m\u001b[43m \u001b[49m\u001b[43mlabel\u001b[49m\u001b[38;5;241;43m=\u001b[39;49m\u001b[38;5;124;43m'\u001b[39;49m\u001b[38;5;124;43mPrevisões Ponderadas Combinada\u001b[39;49m\u001b[38;5;124;43m'\u001b[39;49m\u001b[43m,\u001b[49m\u001b[43m \u001b[49m\u001b[43mcolor\u001b[49m\u001b[38;5;241;43m=\u001b[39;49m\u001b[38;5;124;43m'\u001b[39;49m\u001b[38;5;124;43mgreen\u001b[39;49m\u001b[38;5;124;43m'\u001b[39;49m\u001b[43m)\u001b[49m\n\u001b[1;32m     27\u001b[0m plt\u001b[38;5;241m.\u001b[39mscatter(x_future, final_predictions_future, label\u001b[38;5;241m=\u001b[39m\u001b[38;5;124m'\u001b[39m\u001b[38;5;124mPrevisões Ponderadas Futuras\u001b[39m\u001b[38;5;124m'\u001b[39m, color\u001b[38;5;241m=\u001b[39m\u001b[38;5;124m'\u001b[39m\u001b[38;5;124mred\u001b[39m\u001b[38;5;124m'\u001b[39m)\n\u001b[1;32m     29\u001b[0m \u001b[38;5;66;03m# Configurações do gráfico\u001b[39;00m\n",
      "File \u001b[0;32m~/anaconda3/lib/python3.10/site-packages/matplotlib/pyplot.py:2785\u001b[0m, in \u001b[0;36mplot\u001b[0;34m(scalex, scaley, data, *args, **kwargs)\u001b[0m\n\u001b[1;32m   2783\u001b[0m \u001b[38;5;129m@_copy_docstring_and_deprecators\u001b[39m(Axes\u001b[38;5;241m.\u001b[39mplot)\n\u001b[1;32m   2784\u001b[0m \u001b[38;5;28;01mdef\u001b[39;00m \u001b[38;5;21mplot\u001b[39m(\u001b[38;5;241m*\u001b[39margs, scalex\u001b[38;5;241m=\u001b[39m\u001b[38;5;28;01mTrue\u001b[39;00m, scaley\u001b[38;5;241m=\u001b[39m\u001b[38;5;28;01mTrue\u001b[39;00m, data\u001b[38;5;241m=\u001b[39m\u001b[38;5;28;01mNone\u001b[39;00m, \u001b[38;5;241m*\u001b[39m\u001b[38;5;241m*\u001b[39mkwargs):\n\u001b[0;32m-> 2785\u001b[0m     \u001b[38;5;28;01mreturn\u001b[39;00m \u001b[43mgca\u001b[49m\u001b[43m(\u001b[49m\u001b[43m)\u001b[49m\u001b[38;5;241;43m.\u001b[39;49m\u001b[43mplot\u001b[49m\u001b[43m(\u001b[49m\n\u001b[1;32m   2786\u001b[0m \u001b[43m        \u001b[49m\u001b[38;5;241;43m*\u001b[39;49m\u001b[43margs\u001b[49m\u001b[43m,\u001b[49m\u001b[43m \u001b[49m\u001b[43mscalex\u001b[49m\u001b[38;5;241;43m=\u001b[39;49m\u001b[43mscalex\u001b[49m\u001b[43m,\u001b[49m\u001b[43m \u001b[49m\u001b[43mscaley\u001b[49m\u001b[38;5;241;43m=\u001b[39;49m\u001b[43mscaley\u001b[49m\u001b[43m,\u001b[49m\n\u001b[1;32m   2787\u001b[0m \u001b[43m        \u001b[49m\u001b[38;5;241;43m*\u001b[39;49m\u001b[38;5;241;43m*\u001b[39;49m\u001b[43m(\u001b[49m\u001b[43m{\u001b[49m\u001b[38;5;124;43m\"\u001b[39;49m\u001b[38;5;124;43mdata\u001b[39;49m\u001b[38;5;124;43m\"\u001b[39;49m\u001b[43m:\u001b[49m\u001b[43m \u001b[49m\u001b[43mdata\u001b[49m\u001b[43m}\u001b[49m\u001b[43m \u001b[49m\u001b[38;5;28;43;01mif\u001b[39;49;00m\u001b[43m \u001b[49m\u001b[43mdata\u001b[49m\u001b[43m \u001b[49m\u001b[38;5;129;43;01mis\u001b[39;49;00m\u001b[43m \u001b[49m\u001b[38;5;129;43;01mnot\u001b[39;49;00m\u001b[43m \u001b[49m\u001b[38;5;28;43;01mNone\u001b[39;49;00m\u001b[43m \u001b[49m\u001b[38;5;28;43;01melse\u001b[39;49;00m\u001b[43m \u001b[49m\u001b[43m{\u001b[49m\u001b[43m}\u001b[49m\u001b[43m)\u001b[49m\u001b[43m,\u001b[49m\u001b[43m \u001b[49m\u001b[38;5;241;43m*\u001b[39;49m\u001b[38;5;241;43m*\u001b[39;49m\u001b[43mkwargs\u001b[49m\u001b[43m)\u001b[49m\n",
      "File \u001b[0;32m~/anaconda3/lib/python3.10/site-packages/matplotlib/axes/_axes.py:1688\u001b[0m, in \u001b[0;36mAxes.plot\u001b[0;34m(self, scalex, scaley, data, *args, **kwargs)\u001b[0m\n\u001b[1;32m   1445\u001b[0m \u001b[38;5;124;03m\"\"\"\u001b[39;00m\n\u001b[1;32m   1446\u001b[0m \u001b[38;5;124;03mPlot y versus x as lines and/or markers.\u001b[39;00m\n\u001b[1;32m   1447\u001b[0m \n\u001b[0;32m   (...)\u001b[0m\n\u001b[1;32m   1685\u001b[0m \u001b[38;5;124;03m(``'green'``) or hex strings (``'#008000'``).\u001b[39;00m\n\u001b[1;32m   1686\u001b[0m \u001b[38;5;124;03m\"\"\"\u001b[39;00m\n\u001b[1;32m   1687\u001b[0m kwargs \u001b[38;5;241m=\u001b[39m cbook\u001b[38;5;241m.\u001b[39mnormalize_kwargs(kwargs, mlines\u001b[38;5;241m.\u001b[39mLine2D)\n\u001b[0;32m-> 1688\u001b[0m lines \u001b[38;5;241m=\u001b[39m [\u001b[38;5;241m*\u001b[39m\u001b[38;5;28mself\u001b[39m\u001b[38;5;241m.\u001b[39m_get_lines(\u001b[38;5;241m*\u001b[39margs, data\u001b[38;5;241m=\u001b[39mdata, \u001b[38;5;241m*\u001b[39m\u001b[38;5;241m*\u001b[39mkwargs)]\n\u001b[1;32m   1689\u001b[0m \u001b[38;5;28;01mfor\u001b[39;00m line \u001b[38;5;129;01min\u001b[39;00m lines:\n\u001b[1;32m   1690\u001b[0m     \u001b[38;5;28mself\u001b[39m\u001b[38;5;241m.\u001b[39madd_line(line)\n",
      "File \u001b[0;32m~/anaconda3/lib/python3.10/site-packages/matplotlib/axes/_base.py:311\u001b[0m, in \u001b[0;36m_process_plot_var_args.__call__\u001b[0;34m(self, data, *args, **kwargs)\u001b[0m\n\u001b[1;32m    309\u001b[0m     this \u001b[38;5;241m+\u001b[39m\u001b[38;5;241m=\u001b[39m args[\u001b[38;5;241m0\u001b[39m],\n\u001b[1;32m    310\u001b[0m     args \u001b[38;5;241m=\u001b[39m args[\u001b[38;5;241m1\u001b[39m:]\n\u001b[0;32m--> 311\u001b[0m \u001b[38;5;28;01myield from\u001b[39;00m \u001b[38;5;28;43mself\u001b[39;49m\u001b[38;5;241;43m.\u001b[39;49m\u001b[43m_plot_args\u001b[49m\u001b[43m(\u001b[49m\n\u001b[1;32m    312\u001b[0m \u001b[43m    \u001b[49m\u001b[43mthis\u001b[49m\u001b[43m,\u001b[49m\u001b[43m \u001b[49m\u001b[43mkwargs\u001b[49m\u001b[43m,\u001b[49m\u001b[43m \u001b[49m\u001b[43mambiguous_fmt_datakey\u001b[49m\u001b[38;5;241;43m=\u001b[39;49m\u001b[43mambiguous_fmt_datakey\u001b[49m\u001b[43m)\u001b[49m\n",
      "File \u001b[0;32m~/anaconda3/lib/python3.10/site-packages/matplotlib/axes/_base.py:504\u001b[0m, in \u001b[0;36m_process_plot_var_args._plot_args\u001b[0;34m(self, tup, kwargs, return_kwargs, ambiguous_fmt_datakey)\u001b[0m\n\u001b[1;32m    501\u001b[0m     \u001b[38;5;28mself\u001b[39m\u001b[38;5;241m.\u001b[39maxes\u001b[38;5;241m.\u001b[39myaxis\u001b[38;5;241m.\u001b[39mupdate_units(y)\n\u001b[1;32m    503\u001b[0m \u001b[38;5;28;01mif\u001b[39;00m x\u001b[38;5;241m.\u001b[39mshape[\u001b[38;5;241m0\u001b[39m] \u001b[38;5;241m!=\u001b[39m y\u001b[38;5;241m.\u001b[39mshape[\u001b[38;5;241m0\u001b[39m]:\n\u001b[0;32m--> 504\u001b[0m     \u001b[38;5;28;01mraise\u001b[39;00m \u001b[38;5;167;01mValueError\u001b[39;00m(\u001b[38;5;124mf\u001b[39m\u001b[38;5;124m\"\u001b[39m\u001b[38;5;124mx and y must have same first dimension, but \u001b[39m\u001b[38;5;124m\"\u001b[39m\n\u001b[1;32m    505\u001b[0m                      \u001b[38;5;124mf\u001b[39m\u001b[38;5;124m\"\u001b[39m\u001b[38;5;124mhave shapes \u001b[39m\u001b[38;5;132;01m{\u001b[39;00mx\u001b[38;5;241m.\u001b[39mshape\u001b[38;5;132;01m}\u001b[39;00m\u001b[38;5;124m and \u001b[39m\u001b[38;5;132;01m{\u001b[39;00my\u001b[38;5;241m.\u001b[39mshape\u001b[38;5;132;01m}\u001b[39;00m\u001b[38;5;124m\"\u001b[39m)\n\u001b[1;32m    506\u001b[0m \u001b[38;5;28;01mif\u001b[39;00m x\u001b[38;5;241m.\u001b[39mndim \u001b[38;5;241m>\u001b[39m \u001b[38;5;241m2\u001b[39m \u001b[38;5;129;01mor\u001b[39;00m y\u001b[38;5;241m.\u001b[39mndim \u001b[38;5;241m>\u001b[39m \u001b[38;5;241m2\u001b[39m:\n\u001b[1;32m    507\u001b[0m     \u001b[38;5;28;01mraise\u001b[39;00m \u001b[38;5;167;01mValueError\u001b[39;00m(\u001b[38;5;124mf\u001b[39m\u001b[38;5;124m\"\u001b[39m\u001b[38;5;124mx and y can be no greater than 2D, but have \u001b[39m\u001b[38;5;124m\"\u001b[39m\n\u001b[1;32m    508\u001b[0m                      \u001b[38;5;124mf\u001b[39m\u001b[38;5;124m\"\u001b[39m\u001b[38;5;124mshapes \u001b[39m\u001b[38;5;132;01m{\u001b[39;00mx\u001b[38;5;241m.\u001b[39mshape\u001b[38;5;132;01m}\u001b[39;00m\u001b[38;5;124m and \u001b[39m\u001b[38;5;132;01m{\u001b[39;00my\u001b[38;5;241m.\u001b[39mshape\u001b[38;5;132;01m}\u001b[39;00m\u001b[38;5;124m\"\u001b[39m)\n",
      "\u001b[0;31mValueError\u001b[0m: x and y must have same first dimension, but have shapes (20,) and (4,)"
     ]
    },
    {
     "data": {
      "image/png": "[encoded data removed]",
      "text/plain": [
       "<Figure size 640x480 with 1 Axes>"
      ]
     },
     "metadata": {},
     "output_type": "display_data"
    }
   ],
   "source": [
    "from sklearn.linear_model import LinearRegression\n",
    "\n",
    "# Intervalo de tempo atual\n",
    "x_current = np.arange(0, len(df))\n",
    "\n",
    "# Intervalo de tempo para previsão (próximos 12 meses, por exemplo)\n",
    "x_future = np.arange(len(df), len(df) + 12)\n",
    "\n",
    "# Obtenha as previsões ponderadas para os próximos 12 meses (você teria que gerar essas previsões de acordo com seu modelo)\n",
    "\n",
    "# Ponderação: suponhamos que você queira dar 70% de peso ao SARIMA e 30% ao ESTR\n",
    "weights = np.array([0.7, 0.3])\n",
    "\n",
    "# Dados de treino com ponderação\n",
    "X_weighted = X * weights\n",
    "\n",
    "# Treinamento da Regressão Linear com ponderação\n",
    "reg_model_weighted = LinearRegression()\n",
    "reg_model_weighted.fit(X_weighted, residuals)\n",
    "\n",
    "# Previsão dos resíduos ponderados\n",
    "residual_pred_weighted = reg_model_weighted.predict(X_weighted)\n",
    "\n",
    "# Previsões combinadas ponderadas\n",
    "final_predictions_weighted = sarima_pred_mean + residual_pred_weighted\n",
    "\n",
    "final_predictions_future = final_model.predict(X_future_combined)\n",
    "\n",
    "# Plot dos dados reais\n",
    "plt.scatter(x_current, df['valor'], label='Dados Reais')\n",
    "\n",
    "# Plot das previsões ponderadas para o período atual\n",
    "plt.plot(x_current, final_predictions_weighted, label='Previsões Ponderadas Atuais', color='orange')\n",
    "\n",
    "# Plot das previsões ponderadas para os próximos 12 meses\n",
    "plt.plot(x_future, final_predictions_future, label='Previsões Ponderadas Futuras', color='red')\n",
    "\n",
    "# Configurações do gráfico\n",
    "plt.xlabel('Tempo')\n",
    "plt.ylabel('Valor')\n",
    "plt.title('Previsões Ponderadas com SARIMA e ESTR')\n",
    "plt.legend()\n",
    "\n",
    "# Mostrar o gráfico\n",
    "plt.show()\n"
   ]
  },
  {
   "cell_type": "code",
   "execution_count": null,
   "id": "3cdcb9ae-69f7-4375-b0fe-566b94b7d658",
   "metadata": {},
   "outputs": [],
   "source": []
  }
 ],
 "metadata": {
  "kernelspec": {
   "display_name": "Python 3 (ipykernel)",
   "language": "python",
   "name": "python3"
  },
  "language_info": {
   "codemirror_mode": {
    "name": "ipython",
    "version": 3
   },
   "file_extension": ".py",
   "mimetype": "text/x-python",
   "name": "python",
   "nbconvert_exporter": "python",
   "pygments_lexer": "ipython3",
   "version": "3.10.9"
  }
 },
 "nbformat": 4,
 "nbformat_minor": 5
}
